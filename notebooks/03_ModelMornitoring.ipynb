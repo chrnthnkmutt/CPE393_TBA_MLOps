{
 "cells": [
  {
   "cell_type": "code",
   "execution_count": null,
   "id": "d807c3d5",
   "metadata": {
    "vscode": {
     "languageId": "plaintext"
    }
   },
   "outputs": [],
   "source": [
    "!pip install -r requirements.txt"
   ]
  },
  {
   "cell_type": "code",
   "execution_count": null,
   "id": "8e8dc30e",
   "metadata": {
    "vscode": {
     "languageId": "plaintext"
    }
   },
   "outputs": [],
   "source": [
    "import pandas as pd\n",
    "from datetime import datetime, timedelta\n",
    "from sklearn import datasets\n",
    "from scipy import stats\n",
    "import numpy as np\n",
    "from evidently.legacy.test_suite import TestSuite\n",
    "from evidently.legacy.test_preset import DataDriftTestPreset, DataQualityTestPreset, DataStabilityTestPreset"
   ]
  },
  {
   "cell_type": "code",
   "execution_count": null,
   "id": "140c848a",
   "metadata": {
    "vscode": {
     "languageId": "plaintext"
    }
   },
   "outputs": [],
   "source": [
    "df=pd.read_csv(\"DelayedFlights.csv\")\n",
    "ref_data=df[1:500000]\n",
    "curr_data=df[500000:700000]"
   ]
  },
  {
   "cell_type": "code",
   "execution_count": null,
   "id": "042e8dc2",
   "metadata": {
    "vscode": {
     "languageId": "plaintext"
    }
   },
   "outputs": [],
   "source": [
    "numerical_columns = [\n",
    "    'Month', 'DayofMonth', 'DayOfWeek', 'DepTime', 'CRSDepTime', 'CRSArrTime',\n",
    "    'FlightNum', 'CRSElapsedTime', 'AirTime', 'DepDelay',\n",
    "    'Distance', 'TaxiIn', 'TaxiOut', 'CarrierDelay', 'WeatherDelay', 'NASDelay',\n",
    "    'SecurityDelay', 'LateAircraftDelay'\n",
    "]\n",
    "df = df.drop(['Unnamed: 0', 'Year', 'CancellationCode', 'TailNum', 'Diverted', 'Cancelled', 'ArrTime', 'ActualElapsedTime'], axis=1)\n",
    "delay_colns = ['CarrierDelay', 'WeatherDelay', 'NASDelay', 'SecurityDelay', 'LateAircraftDelay']\n",
    "\n",
    "# Impute missing values with 0 for these columns\n",
    "df[delay_colns] = df[delay_colns].fillna(0)\n",
    "\n",
    "# Impute missing values with the median for these columns\n",
    "columns_to_impute = ['AirTime', 'ArrDelay', 'TaxiIn', 'CRSElapsedTime']\n",
    "df[columns_to_impute] = df[columns_to_impute].fillna(df[columns_to_impute].median())\n",
    "\n",
    "df = pd.get_dummies(df, columns=['UniqueCarrier', 'Origin', 'Dest'], drop_first=True)\n",
    "\n",
    "z_threshold = 3\n",
    "z_scores = np.abs(stats.zscore(df[numerical_columns]))\n",
    "outliers = np.where(z_scores > z_threshold)\n",
    "df_no_outliers = df[(z_scores <= z_threshold).all(axis=1)]"
   ]
  },
  {
   "cell_type": "code",
   "execution_count": null,
   "id": "331f443b",
   "metadata": {
    "vscode": {
     "languageId": "plaintext"
    }
   },
   "outputs": [],
   "source": [
    "data_drift_suite = TestSuite(tests=[DataDriftTestPreset()])\n",
    "data_drift_suite.run(reference_data=ref_data, current_data=curr_data)\n",
    "\n",
    "if not data_drift_suite.as_dict()['summary']['all_passed']:\n",
    "    data_drift_suite.save_html(\"./data_drift_suite.html\")   "
   ]
  },
  {
   "cell_type": "code",
   "execution_count": null,
   "id": "af156d7a",
   "metadata": {
    "vscode": {
     "languageId": "plaintext"
    }
   },
   "outputs": [],
   "source": [
    "model_quality_suite = TestSuite(tests=[DataQualityTestPreset(), DataStabilityTestPreset()])\n",
    "model_quality_suite.run(reference_data=ref_data, current_data=curr_data)\n",
    "\n",
    "if not model_quality_suite.as_dict()['summary']['all_passed']:\n",
    "    model_quality_suite.save_html(\"./model_quality_suite.html\")"
   ]
  }
 ],
 "metadata": {
  "language_info": {
   "name": "python"
  }
 },
 "nbformat": 4,
 "nbformat_minor": 5
}
